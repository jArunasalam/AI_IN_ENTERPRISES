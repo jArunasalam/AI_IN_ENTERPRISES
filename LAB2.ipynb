{
  "nbformat": 4,
  "nbformat_minor": 0,
  "metadata": {
    "colab": {
      "name": "Untitled1.ipynb",
      "provenance": [],
      "authorship_tag": "ABX9TyNzhf9HGFn84FqbiSIGRBjw",
      "include_colab_link": true
    },
    "kernelspec": {
      "name": "python3",
      "display_name": "Python 3"
    }
  },
  "cells": [
    {
      "cell_type": "markdown",
      "metadata": {
        "id": "view-in-github",
        "colab_type": "text"
      },
      "source": [
        "<a href=\"https://colab.research.google.com/github/jArunasalam/AI_IN_ENTERPRISES/blob/master/LAB2.ipynb\" target=\"_parent\"><img src=\"https://colab.research.google.com/assets/colab-badge.svg\" alt=\"Open In Colab\"/></a>"
      ]
    },
    {
      "cell_type": "code",
      "metadata": {
        "colab": {
          "base_uri": "https://localhost:8080/"
        },
        "id": "4kQesp_hifpM",
        "outputId": "1fc32d0f-ee96-46ff-bf14-0d9aa4b9d7d0"
      },
      "source": [
        "a=9\r\n",
        "b=4\r\n",
        "c=(a+b)/2\r\n",
        "print('c is equal to sum of a and b divided by 2')\r\n",
        "print(c)"
      ],
      "execution_count": 1,
      "outputs": [
        {
          "output_type": "stream",
          "text": [
            "c is equal to sum of a and b divided by 2\n",
            "6.5\n"
          ],
          "name": "stdout"
        }
      ]
    }
  ]
}